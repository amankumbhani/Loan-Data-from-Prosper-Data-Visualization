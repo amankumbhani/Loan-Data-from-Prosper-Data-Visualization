{
 "cells": [
  {
   "cell_type": "markdown",
   "metadata": {},
   "source": [
    "# Analysing loan data from Prosper\n",
    "## by Aman Kumbhani\n",
    "\n",
    "## Preliminary Wrangling\n",
    "\n",
    "This data set contains 113,937 loans with 81 variables on each loan, including loan amount, borrower rate (or interest rate), current loan status, borrower income, and many others. This [data dictionary](https://docs.google.com/spreadsheets/d/1gDyi_L4UvIrLTEC6Wri5nbaMmkGmLQBk-Yx3z0XDEtI/edit#gid=0) explains the variables in the data set. You are not expected to explore all of the variables in the dataset! Focus your exploration on about 10-15 of them."
   ]
  },
  {
   "cell_type": "code",
   "execution_count": 2,
   "metadata": {},
   "outputs": [],
   "source": [
    "# import all packages and set plots to be embedded inline\n",
    "import numpy as np\n",
    "import pandas as pd\n",
    "import matplotlib.pyplot as plt\n",
    "import seaborn as sb\n",
    "\n",
    "%matplotlib inline"
   ]
  },
  {
   "cell_type": "code",
   "execution_count": 3,
   "metadata": {},
   "outputs": [
    {
     "data": {
      "text/html": [
       "<div>\n",
       "<style scoped>\n",
       "    .dataframe tbody tr th:only-of-type {\n",
       "        vertical-align: middle;\n",
       "    }\n",
       "\n",
       "    .dataframe tbody tr th {\n",
       "        vertical-align: top;\n",
       "    }\n",
       "\n",
       "    .dataframe thead th {\n",
       "        text-align: right;\n",
       "    }\n",
       "</style>\n",
       "<table border=\"1\" class=\"dataframe\">\n",
       "  <thead>\n",
       "    <tr style=\"text-align: right;\">\n",
       "      <th></th>\n",
       "      <th>ListingKey</th>\n",
       "      <th>ListingNumber</th>\n",
       "      <th>ListingCreationDate</th>\n",
       "      <th>CreditGrade</th>\n",
       "      <th>Term</th>\n",
       "      <th>LoanStatus</th>\n",
       "      <th>ClosedDate</th>\n",
       "      <th>BorrowerAPR</th>\n",
       "      <th>BorrowerRate</th>\n",
       "      <th>LenderYield</th>\n",
       "      <th>...</th>\n",
       "      <th>LP_ServiceFees</th>\n",
       "      <th>LP_CollectionFees</th>\n",
       "      <th>LP_GrossPrincipalLoss</th>\n",
       "      <th>LP_NetPrincipalLoss</th>\n",
       "      <th>LP_NonPrincipalRecoverypayments</th>\n",
       "      <th>PercentFunded</th>\n",
       "      <th>Recommendations</th>\n",
       "      <th>InvestmentFromFriendsCount</th>\n",
       "      <th>InvestmentFromFriendsAmount</th>\n",
       "      <th>Investors</th>\n",
       "    </tr>\n",
       "  </thead>\n",
       "  <tbody>\n",
       "    <tr>\n",
       "      <th>57906</th>\n",
       "      <td>1BFF3600453834519593115</td>\n",
       "      <td>1165352</td>\n",
       "      <td>2014-01-26 13:09:35.317000000</td>\n",
       "      <td>NaN</td>\n",
       "      <td>36</td>\n",
       "      <td>Current</td>\n",
       "      <td>NaN</td>\n",
       "      <td>0.17611</td>\n",
       "      <td>0.1400</td>\n",
       "      <td>0.1300</td>\n",
       "      <td>...</td>\n",
       "      <td>-16.44</td>\n",
       "      <td>0.0</td>\n",
       "      <td>0.00</td>\n",
       "      <td>0.00</td>\n",
       "      <td>0.0</td>\n",
       "      <td>1.0</td>\n",
       "      <td>0</td>\n",
       "      <td>0</td>\n",
       "      <td>0.0</td>\n",
       "      <td>1</td>\n",
       "    </tr>\n",
       "    <tr>\n",
       "      <th>12912</th>\n",
       "      <td>9D25353769074590952CF49</td>\n",
       "      <td>555031</td>\n",
       "      <td>2012-01-29 09:13:39.340000000</td>\n",
       "      <td>NaN</td>\n",
       "      <td>36</td>\n",
       "      <td>Completed</td>\n",
       "      <td>2012-04-12 00:00:00</td>\n",
       "      <td>0.06828</td>\n",
       "      <td>0.0649</td>\n",
       "      <td>0.0549</td>\n",
       "      <td>...</td>\n",
       "      <td>-2.97</td>\n",
       "      <td>0.0</td>\n",
       "      <td>0.00</td>\n",
       "      <td>0.00</td>\n",
       "      <td>0.0</td>\n",
       "      <td>1.0</td>\n",
       "      <td>0</td>\n",
       "      <td>0</td>\n",
       "      <td>0.0</td>\n",
       "      <td>53</td>\n",
       "    </tr>\n",
       "    <tr>\n",
       "      <th>29031</th>\n",
       "      <td>A0293365711350325D22F97</td>\n",
       "      <td>25088</td>\n",
       "      <td>2006-07-17 10:18:55.230000000</td>\n",
       "      <td>D</td>\n",
       "      <td>36</td>\n",
       "      <td>Defaulted</td>\n",
       "      <td>2007-11-17 00:00:00</td>\n",
       "      <td>0.22744</td>\n",
       "      <td>0.2200</td>\n",
       "      <td>0.2150</td>\n",
       "      <td>...</td>\n",
       "      <td>-10.54</td>\n",
       "      <td>0.0</td>\n",
       "      <td>1972.34</td>\n",
       "      <td>1972.34</td>\n",
       "      <td>0.0</td>\n",
       "      <td>1.0</td>\n",
       "      <td>0</td>\n",
       "      <td>0</td>\n",
       "      <td>0.0</td>\n",
       "      <td>27</td>\n",
       "    </tr>\n",
       "  </tbody>\n",
       "</table>\n",
       "<p>3 rows × 81 columns</p>\n",
       "</div>"
      ],
      "text/plain": [
       "                    ListingKey  ListingNumber            ListingCreationDate  \\\n",
       "57906  1BFF3600453834519593115        1165352  2014-01-26 13:09:35.317000000   \n",
       "12912  9D25353769074590952CF49         555031  2012-01-29 09:13:39.340000000   \n",
       "29031  A0293365711350325D22F97          25088  2006-07-17 10:18:55.230000000   \n",
       "\n",
       "      CreditGrade  Term LoanStatus           ClosedDate  BorrowerAPR  \\\n",
       "57906         NaN    36    Current                  NaN      0.17611   \n",
       "12912         NaN    36  Completed  2012-04-12 00:00:00      0.06828   \n",
       "29031           D    36  Defaulted  2007-11-17 00:00:00      0.22744   \n",
       "\n",
       "       BorrowerRate  LenderYield  ...  LP_ServiceFees  LP_CollectionFees  \\\n",
       "57906        0.1400       0.1300  ...          -16.44                0.0   \n",
       "12912        0.0649       0.0549  ...           -2.97                0.0   \n",
       "29031        0.2200       0.2150  ...          -10.54                0.0   \n",
       "\n",
       "       LP_GrossPrincipalLoss  LP_NetPrincipalLoss  \\\n",
       "57906                   0.00                 0.00   \n",
       "12912                   0.00                 0.00   \n",
       "29031                1972.34              1972.34   \n",
       "\n",
       "      LP_NonPrincipalRecoverypayments  PercentFunded  Recommendations  \\\n",
       "57906                             0.0            1.0                0   \n",
       "12912                             0.0            1.0                0   \n",
       "29031                             0.0            1.0                0   \n",
       "\n",
       "      InvestmentFromFriendsCount InvestmentFromFriendsAmount Investors  \n",
       "57906                          0                         0.0         1  \n",
       "12912                          0                         0.0        53  \n",
       "29031                          0                         0.0        27  \n",
       "\n",
       "[3 rows x 81 columns]"
      ]
     },
     "execution_count": 3,
     "metadata": {},
     "output_type": "execute_result"
    }
   ],
   "source": [
    "df = pd.read_csv('prosperLoanData.csv')\n",
    "df_copy = df.copy()\n",
    "df_copy.sample(3)"
   ]
  },
  {
   "cell_type": "code",
   "execution_count": 4,
   "metadata": {},
   "outputs": [
    {
     "data": {
      "text/plain": [
       "(113937, 81)"
      ]
     },
     "execution_count": 4,
     "metadata": {},
     "output_type": "execute_result"
    }
   ],
   "source": [
    "df_copy.shape"
   ]
  },
  {
   "cell_type": "code",
   "execution_count": 5,
   "metadata": {},
   "outputs": [
    {
     "data": {
      "text/plain": [
       "Index(['ListingKey', 'ListingNumber', 'ListingCreationDate', 'CreditGrade',\n",
       "       'Term', 'LoanStatus', 'ClosedDate', 'BorrowerAPR', 'BorrowerRate',\n",
       "       'LenderYield', 'EstimatedEffectiveYield', 'EstimatedLoss',\n",
       "       'EstimatedReturn', 'ProsperRating (numeric)', 'ProsperRating (Alpha)',\n",
       "       'ProsperScore', 'ListingCategory (numeric)', 'BorrowerState',\n",
       "       'Occupation', 'EmploymentStatus', 'EmploymentStatusDuration',\n",
       "       'IsBorrowerHomeowner', 'CurrentlyInGroup', 'GroupKey',\n",
       "       'DateCreditPulled', 'CreditScoreRangeLower', 'CreditScoreRangeUpper',\n",
       "       'FirstRecordedCreditLine', 'CurrentCreditLines', 'OpenCreditLines',\n",
       "       'TotalCreditLinespast7years', 'OpenRevolvingAccounts',\n",
       "       'OpenRevolvingMonthlyPayment', 'InquiriesLast6Months', 'TotalInquiries',\n",
       "       'CurrentDelinquencies', 'AmountDelinquent', 'DelinquenciesLast7Years',\n",
       "       'PublicRecordsLast10Years', 'PublicRecordsLast12Months',\n",
       "       'RevolvingCreditBalance', 'BankcardUtilization',\n",
       "       'AvailableBankcardCredit', 'TotalTrades',\n",
       "       'TradesNeverDelinquent (percentage)', 'TradesOpenedLast6Months',\n",
       "       'DebtToIncomeRatio', 'IncomeRange', 'IncomeVerifiable',\n",
       "       'StatedMonthlyIncome', 'LoanKey', 'TotalProsperLoans',\n",
       "       'TotalProsperPaymentsBilled', 'OnTimeProsperPayments',\n",
       "       'ProsperPaymentsLessThanOneMonthLate',\n",
       "       'ProsperPaymentsOneMonthPlusLate', 'ProsperPrincipalBorrowed',\n",
       "       'ProsperPrincipalOutstanding', 'ScorexChangeAtTimeOfListing',\n",
       "       'LoanCurrentDaysDelinquent', 'LoanFirstDefaultedCycleNumber',\n",
       "       'LoanMonthsSinceOrigination', 'LoanNumber', 'LoanOriginalAmount',\n",
       "       'LoanOriginationDate', 'LoanOriginationQuarter', 'MemberKey',\n",
       "       'MonthlyLoanPayment', 'LP_CustomerPayments',\n",
       "       'LP_CustomerPrincipalPayments', 'LP_InterestandFees', 'LP_ServiceFees',\n",
       "       'LP_CollectionFees', 'LP_GrossPrincipalLoss', 'LP_NetPrincipalLoss',\n",
       "       'LP_NonPrincipalRecoverypayments', 'PercentFunded', 'Recommendations',\n",
       "       'InvestmentFromFriendsCount', 'InvestmentFromFriendsAmount',\n",
       "       'Investors'],\n",
       "      dtype='object')"
      ]
     },
     "execution_count": 5,
     "metadata": {},
     "output_type": "execute_result"
    }
   ],
   "source": [
    "df_copy.columns"
   ]
  },
  {
   "cell_type": "markdown",
   "metadata": {},
   "source": [
    "### What is the structure of your dataset?\n",
    "\n",
    "The dataset above contains 113937 observations and 81 features.\n",
    "\n",
    "### What is/are the main feature(s) of interest in your dataset?\n",
    "\n",
    "The features that could be of use are;\n",
    "- ListingKey: Unique key for each listing, same value as the 'key' used in the listing object in the API\n",
    "- ListingCreationDate: The date the listing was created\n",
    "- Term: The length of the loan expressed in months\n",
    "- LoanStatus: The current status of the loan: Cancelled,  Chargedoff, Completed, Current, Defaulted, FinalPaymentInProgress, PastDue. The PastDue status will be accompanied by a delinquency bucket\n",
    "- BorrowerRate: The Borrower's interest rate for this loan\n",
    "- ProsperRating (Alpha): The Prosper Rating assigned at the time the listing was created between AA - HR.  Applicable for loans originated after July 2009\n",
    "- ListingCategory: The category of the listing that the borrower selected when posting their listing: 0 - Not Available, 1 - Debt Consolidation, 2 - Home Improvement, 3 - Business, 4 - Personal Loan, 5 - Student Use, 6 - Auto, 7- Other, 8 - Baby&Adoption, 9 - Boat, 10 - Cosmetic Procedure, 11 - Engagement Ring, 12 - Green Loans, 13 - Household Expenses, 14 - Large Purchases, 15 - Medical/Dental, 16 - Motorcycle, 17 - RV, 18 - Taxes, 19 - Vacation, 20 - Wedding Loans\n",
    "- BorrowerState: The two letter abbreviation of the state of the address of the borrower at the time the Listing was created\n",
    "- Occupation: The Occupation selected by the Borrower at the time they created the listing\n",
    "- EmploymentStatus: The employment status of the borrower at the time they posted the listing\n",
    "- IsBorrowerHomeowner: A Borrower will be classified as a homowner if they have a mortgage on their credit profile or provide documentation confirming they are a homeowner\n",
    "- IncomeRange: The income range of the borrower at the time the listing was created\n",
    "- StatedMonthlyIncome: The monthly income the borrower stated at the time the listing was created\n",
    "- Recommendations: Number of recommendations the borrower had at the time the listing was created\n",
    "- Investors: The number of investors that funded the loan.\n",
    "\n",
    "### What features in the dataset do you think will help support your investigation into your feature(s) of interest?\n",
    "Features like Recommendations, IncomeRange, EmploymentStatus & IsBorrowerHomeowner will affect is an individual is granted a loan."
   ]
  },
  {
   "cell_type": "code",
   "execution_count": 6,
   "metadata": {},
   "outputs": [
    {
     "data": {
      "text/html": [
       "<div>\n",
       "<style scoped>\n",
       "    .dataframe tbody tr th:only-of-type {\n",
       "        vertical-align: middle;\n",
       "    }\n",
       "\n",
       "    .dataframe tbody tr th {\n",
       "        vertical-align: top;\n",
       "    }\n",
       "\n",
       "    .dataframe thead th {\n",
       "        text-align: right;\n",
       "    }\n",
       "</style>\n",
       "<table border=\"1\" class=\"dataframe\">\n",
       "  <thead>\n",
       "    <tr style=\"text-align: right;\">\n",
       "      <th></th>\n",
       "      <th>ListingKey</th>\n",
       "      <th>ListingCreationDate</th>\n",
       "      <th>Term</th>\n",
       "      <th>LoanStatus</th>\n",
       "      <th>BorrowerRate</th>\n",
       "      <th>ProsperRating (Alpha)</th>\n",
       "      <th>ListingCategory (numeric)</th>\n",
       "      <th>BorrowerState</th>\n",
       "      <th>Occupation</th>\n",
       "      <th>EmploymentStatus</th>\n",
       "      <th>IsBorrowerHomeowner</th>\n",
       "      <th>IncomeRange</th>\n",
       "      <th>StatedMonthlyIncome</th>\n",
       "      <th>Recommendations</th>\n",
       "      <th>Investors</th>\n",
       "      <th>LoanOriginalAmount</th>\n",
       "    </tr>\n",
       "  </thead>\n",
       "  <tbody>\n",
       "    <tr>\n",
       "      <th>31980</th>\n",
       "      <td>72DF3461935149385B898EB</td>\n",
       "      <td>2009-08-31 10:36:05.817000000</td>\n",
       "      <td>36</td>\n",
       "      <td>Completed</td>\n",
       "      <td>0.1520</td>\n",
       "      <td>A</td>\n",
       "      <td>1</td>\n",
       "      <td>MI</td>\n",
       "      <td>Nurse (RN)</td>\n",
       "      <td>Full-time</td>\n",
       "      <td>True</td>\n",
       "      <td>$50,000-74,999</td>\n",
       "      <td>4978.333333</td>\n",
       "      <td>1</td>\n",
       "      <td>203</td>\n",
       "      <td>8500</td>\n",
       "    </tr>\n",
       "    <tr>\n",
       "      <th>22476</th>\n",
       "      <td>C99E3582676123740DF78C7</td>\n",
       "      <td>2013-06-17 17:34:57.763000000</td>\n",
       "      <td>36</td>\n",
       "      <td>Current</td>\n",
       "      <td>0.1203</td>\n",
       "      <td>A</td>\n",
       "      <td>1</td>\n",
       "      <td>KY</td>\n",
       "      <td>Professional</td>\n",
       "      <td>Employed</td>\n",
       "      <td>True</td>\n",
       "      <td>$100,000+</td>\n",
       "      <td>10416.666667</td>\n",
       "      <td>0</td>\n",
       "      <td>1</td>\n",
       "      <td>7000</td>\n",
       "    </tr>\n",
       "  </tbody>\n",
       "</table>\n",
       "</div>"
      ],
      "text/plain": [
       "                    ListingKey            ListingCreationDate  Term  \\\n",
       "31980  72DF3461935149385B898EB  2009-08-31 10:36:05.817000000    36   \n",
       "22476  C99E3582676123740DF78C7  2013-06-17 17:34:57.763000000    36   \n",
       "\n",
       "      LoanStatus  BorrowerRate ProsperRating (Alpha)  \\\n",
       "31980  Completed        0.1520                     A   \n",
       "22476    Current        0.1203                     A   \n",
       "\n",
       "       ListingCategory (numeric) BorrowerState    Occupation EmploymentStatus  \\\n",
       "31980                          1            MI    Nurse (RN)        Full-time   \n",
       "22476                          1            KY  Professional         Employed   \n",
       "\n",
       "       IsBorrowerHomeowner     IncomeRange  StatedMonthlyIncome  \\\n",
       "31980                 True  $50,000-74,999          4978.333333   \n",
       "22476                 True       $100,000+         10416.666667   \n",
       "\n",
       "       Recommendations  Investors  LoanOriginalAmount  \n",
       "31980                1        203                8500  \n",
       "22476                0          1                7000  "
      ]
     },
     "execution_count": 6,
     "metadata": {},
     "output_type": "execute_result"
    }
   ],
   "source": [
    "# Creating a list of column names which will be used for analysis\n",
    "col_used = ['ListingKey', 'ListingCreationDate', 'Term', 'LoanStatus', 'BorrowerRate', 'ProsperRating (Alpha)', 'ListingCategory (numeric)',\n",
    "           'BorrowerState', 'Occupation', 'EmploymentStatus', 'IsBorrowerHomeowner', 'IncomeRange', 'StatedMonthlyIncome',\n",
    "           'Recommendations', 'Investors', 'LoanOriginalAmount']\n",
    "df_copy = df_copy[col_used]\n",
    "df_copy.sample(2)"
   ]
  },
  {
   "cell_type": "code",
   "execution_count": 7,
   "metadata": {},
   "outputs": [
    {
     "data": {
      "text/html": [
       "<div>\n",
       "<style scoped>\n",
       "    .dataframe tbody tr th:only-of-type {\n",
       "        vertical-align: middle;\n",
       "    }\n",
       "\n",
       "    .dataframe tbody tr th {\n",
       "        vertical-align: top;\n",
       "    }\n",
       "\n",
       "    .dataframe thead th {\n",
       "        text-align: right;\n",
       "    }\n",
       "</style>\n",
       "<table border=\"1\" class=\"dataframe\">\n",
       "  <thead>\n",
       "    <tr style=\"text-align: right;\">\n",
       "      <th></th>\n",
       "      <th>ListingKey</th>\n",
       "      <th>ListingCreationDate</th>\n",
       "      <th>Term</th>\n",
       "      <th>LoanStatus</th>\n",
       "      <th>BorrowerRate</th>\n",
       "      <th>ProsperRatingA</th>\n",
       "      <th>ListingCategoryN</th>\n",
       "      <th>BorrowerState</th>\n",
       "      <th>Occupation</th>\n",
       "      <th>EmploymentStatus</th>\n",
       "      <th>IsBorrowerHomeowner</th>\n",
       "      <th>IncomeRange</th>\n",
       "      <th>StatedMonthlyIncome</th>\n",
       "      <th>Recom</th>\n",
       "      <th>Investors</th>\n",
       "      <th>LoanOriginalAmount</th>\n",
       "    </tr>\n",
       "  </thead>\n",
       "  <tbody>\n",
       "    <tr>\n",
       "      <th>29637</th>\n",
       "      <td>B8D833691277001600AC41A</td>\n",
       "      <td>2006-09-22 14:07:16.740000000</td>\n",
       "      <td>36</td>\n",
       "      <td>Completed</td>\n",
       "      <td>0.1500</td>\n",
       "      <td>NaN</td>\n",
       "      <td>0</td>\n",
       "      <td>FL</td>\n",
       "      <td>Military Enlisted</td>\n",
       "      <td>Not available</td>\n",
       "      <td>False</td>\n",
       "      <td>Not displayed</td>\n",
       "      <td>4166.666667</td>\n",
       "      <td>0</td>\n",
       "      <td>35</td>\n",
       "      <td>3000</td>\n",
       "    </tr>\n",
       "    <tr>\n",
       "      <th>52840</th>\n",
       "      <td>6661359668993504005946F</td>\n",
       "      <td>2013-12-16 14:41:07.893000000</td>\n",
       "      <td>60</td>\n",
       "      <td>Current</td>\n",
       "      <td>0.1905</td>\n",
       "      <td>C</td>\n",
       "      <td>1</td>\n",
       "      <td>MT</td>\n",
       "      <td>Analyst</td>\n",
       "      <td>Employed</td>\n",
       "      <td>True</td>\n",
       "      <td>$50,000-74,999</td>\n",
       "      <td>4241.666667</td>\n",
       "      <td>0</td>\n",
       "      <td>1</td>\n",
       "      <td>15000</td>\n",
       "    </tr>\n",
       "  </tbody>\n",
       "</table>\n",
       "</div>"
      ],
      "text/plain": [
       "                    ListingKey            ListingCreationDate  Term  \\\n",
       "29637  B8D833691277001600AC41A  2006-09-22 14:07:16.740000000    36   \n",
       "52840  6661359668993504005946F  2013-12-16 14:41:07.893000000    60   \n",
       "\n",
       "      LoanStatus  BorrowerRate ProsperRatingA  ListingCategoryN BorrowerState  \\\n",
       "29637  Completed        0.1500            NaN                 0            FL   \n",
       "52840    Current        0.1905              C                 1            MT   \n",
       "\n",
       "              Occupation EmploymentStatus  IsBorrowerHomeowner  \\\n",
       "29637  Military Enlisted    Not available                False   \n",
       "52840            Analyst         Employed                 True   \n",
       "\n",
       "          IncomeRange  StatedMonthlyIncome  Recom  Investors  \\\n",
       "29637   Not displayed          4166.666667      0         35   \n",
       "52840  $50,000-74,999          4241.666667      0          1   \n",
       "\n",
       "       LoanOriginalAmount  \n",
       "29637                3000  \n",
       "52840               15000  "
      ]
     },
     "execution_count": 7,
     "metadata": {},
     "output_type": "execute_result"
    }
   ],
   "source": [
    "# Rename column names to make it simpler for analysis\n",
    "df_copy.rename(columns = {'ProsperRating (Alpha)' : 'ProsperRatingA',\n",
    "                          'ListingCategory (numeric)' : 'ListingCategoryN',\n",
    "                          'Recommendations' : 'Recom'}, inplace=True)\n",
    "df_copy.sample(2)"
   ]
  },
  {
   "cell_type": "code",
   "execution_count": 8,
   "metadata": {},
   "outputs": [],
   "source": [
    "# Fixing null values\n",
    "df_copy.dropna(inplace=True)"
   ]
  },
  {
   "cell_type": "code",
   "execution_count": 9,
   "metadata": {},
   "outputs": [
    {
     "name": "stdout",
     "output_type": "stream",
     "text": [
      "<class 'pandas.core.frame.DataFrame'>\n",
      "Int64Index: 83520 entries, 1 to 113936\n",
      "Data columns (total 16 columns):\n",
      " #   Column               Non-Null Count  Dtype  \n",
      "---  ------               --------------  -----  \n",
      " 0   ListingKey           83520 non-null  object \n",
      " 1   ListingCreationDate  83520 non-null  object \n",
      " 2   Term                 83520 non-null  int64  \n",
      " 3   LoanStatus           83520 non-null  object \n",
      " 4   BorrowerRate         83520 non-null  float64\n",
      " 5   ProsperRatingA       83520 non-null  object \n",
      " 6   ListingCategoryN     83520 non-null  int64  \n",
      " 7   BorrowerState        83520 non-null  object \n",
      " 8   Occupation           83520 non-null  object \n",
      " 9   EmploymentStatus     83520 non-null  object \n",
      " 10  IsBorrowerHomeowner  83520 non-null  bool   \n",
      " 11  IncomeRange          83520 non-null  object \n",
      " 12  StatedMonthlyIncome  83520 non-null  float64\n",
      " 13  Recom                83520 non-null  int64  \n",
      " 14  Investors            83520 non-null  int64  \n",
      " 15  LoanOriginalAmount   83520 non-null  int64  \n",
      "dtypes: bool(1), float64(2), int64(5), object(8)\n",
      "memory usage: 10.3+ MB\n"
     ]
    }
   ],
   "source": [
    "# Looking at datatypes\n",
    "df_copy.info()"
   ]
  },
  {
   "cell_type": "code",
   "execution_count": 10,
   "metadata": {},
   "outputs": [],
   "source": [
    "# Fixing ListingCreationDate to datetime instead of object \n",
    "df_copy['ListingCreationDate'] = pd.to_datetime(df_copy['ListingCreationDate'])"
   ]
  },
  {
   "cell_type": "code",
   "execution_count": 11,
   "metadata": {},
   "outputs": [
    {
     "data": {
      "text/plain": [
       "36    57621\n",
       "60    24286\n",
       "12     1613\n",
       "Name: Term, dtype: int64"
      ]
     },
     "execution_count": 11,
     "metadata": {},
     "output_type": "execute_result"
    }
   ],
   "source": [
    "###### Fixing Term into categorical datatype\n",
    "df_copy['Term'] = df_copy['Term'].astype('category')\n",
    "df_copy['Term'].value_counts()"
   ]
  },
  {
   "cell_type": "code",
   "execution_count": 12,
   "metadata": {},
   "outputs": [
    {
     "name": "stdout",
     "output_type": "stream",
     "text": [
      "<class 'pandas.core.frame.DataFrame'>\n",
      "Int64Index: 83520 entries, 1 to 113936\n",
      "Data columns (total 16 columns):\n",
      " #   Column               Non-Null Count  Dtype         \n",
      "---  ------               --------------  -----         \n",
      " 0   ListingKey           83520 non-null  object        \n",
      " 1   ListingCreationDate  83520 non-null  datetime64[ns]\n",
      " 2   Term                 83520 non-null  category      \n",
      " 3   LoanStatus           83520 non-null  object        \n",
      " 4   BorrowerRate         83520 non-null  float64       \n",
      " 5   ProsperRatingA       83520 non-null  object        \n",
      " 6   ListingCategoryN     83520 non-null  int64         \n",
      " 7   BorrowerState        83520 non-null  object        \n",
      " 8   Occupation           83520 non-null  object        \n",
      " 9   EmploymentStatus     83520 non-null  object        \n",
      " 10  IsBorrowerHomeowner  83520 non-null  bool          \n",
      " 11  IncomeRange          83520 non-null  object        \n",
      " 12  StatedMonthlyIncome  83520 non-null  float64       \n",
      " 13  Recom                83520 non-null  int64         \n",
      " 14  Investors            83520 non-null  int64         \n",
      " 15  LoanOriginalAmount   83520 non-null  int64         \n",
      "dtypes: bool(1), category(1), datetime64[ns](1), float64(2), int64(4), object(7)\n",
      "memory usage: 9.7+ MB\n"
     ]
    }
   ],
   "source": [
    "# Testing \n",
    "df_copy.info()"
   ]
  },
  {
   "cell_type": "code",
   "execution_count": 13,
   "metadata": {},
   "outputs": [
    {
     "data": {
      "text/html": [
       "<div>\n",
       "<style scoped>\n",
       "    .dataframe tbody tr th:only-of-type {\n",
       "        vertical-align: middle;\n",
       "    }\n",
       "\n",
       "    .dataframe tbody tr th {\n",
       "        vertical-align: top;\n",
       "    }\n",
       "\n",
       "    .dataframe thead th {\n",
       "        text-align: right;\n",
       "    }\n",
       "</style>\n",
       "<table border=\"1\" class=\"dataframe\">\n",
       "  <thead>\n",
       "    <tr style=\"text-align: right;\">\n",
       "      <th></th>\n",
       "      <th>ListingKey</th>\n",
       "      <th>ListingCreationDate</th>\n",
       "      <th>Term</th>\n",
       "      <th>LoanStatus</th>\n",
       "      <th>BorrowerRate</th>\n",
       "      <th>ProsperRatingA</th>\n",
       "      <th>ListingCategoryN</th>\n",
       "      <th>BorrowerState</th>\n",
       "      <th>Occupation</th>\n",
       "      <th>EmploymentStatus</th>\n",
       "      <th>IsBorrowerHomeowner</th>\n",
       "      <th>IncomeRange</th>\n",
       "      <th>StatedMonthlyIncome</th>\n",
       "      <th>Recom</th>\n",
       "      <th>Investors</th>\n",
       "      <th>LoanOriginalAmount</th>\n",
       "    </tr>\n",
       "  </thead>\n",
       "  <tbody>\n",
       "    <tr>\n",
       "      <th>29389</th>\n",
       "      <td>C3E9359436279198487B119</td>\n",
       "      <td>2013-11-07 06:12:48.300</td>\n",
       "      <td>36</td>\n",
       "      <td>Current</td>\n",
       "      <td>0.1249</td>\n",
       "      <td>A</td>\n",
       "      <td>1</td>\n",
       "      <td>CA</td>\n",
       "      <td>Sales - Retail</td>\n",
       "      <td>Employed</td>\n",
       "      <td>True</td>\n",
       "      <td>$100,000+</td>\n",
       "      <td>25000.000000</td>\n",
       "      <td>0</td>\n",
       "      <td>1</td>\n",
       "      <td>20000</td>\n",
       "    </tr>\n",
       "    <tr>\n",
       "      <th>33744</th>\n",
       "      <td>CA2E35898036039014F3C42</td>\n",
       "      <td>2013-09-10 16:14:30.963</td>\n",
       "      <td>60</td>\n",
       "      <td>Current</td>\n",
       "      <td>0.1730</td>\n",
       "      <td>C</td>\n",
       "      <td>1</td>\n",
       "      <td>TX</td>\n",
       "      <td>Military Enlisted</td>\n",
       "      <td>Employed</td>\n",
       "      <td>True</td>\n",
       "      <td>$50,000-74,999</td>\n",
       "      <td>6240.000000</td>\n",
       "      <td>0</td>\n",
       "      <td>1</td>\n",
       "      <td>15000</td>\n",
       "    </tr>\n",
       "    <tr>\n",
       "      <th>29539</th>\n",
       "      <td>B8C6354947026287980585F</td>\n",
       "      <td>2012-06-18 09:16:42.453</td>\n",
       "      <td>36</td>\n",
       "      <td>Completed</td>\n",
       "      <td>0.2499</td>\n",
       "      <td>D</td>\n",
       "      <td>1</td>\n",
       "      <td>FL</td>\n",
       "      <td>Executive</td>\n",
       "      <td>Employed</td>\n",
       "      <td>True</td>\n",
       "      <td>$100,000+</td>\n",
       "      <td>9250.000000</td>\n",
       "      <td>0</td>\n",
       "      <td>58</td>\n",
       "      <td>5000</td>\n",
       "    </tr>\n",
       "    <tr>\n",
       "      <th>37582</th>\n",
       "      <td>4B3336010098728714EAA12</td>\n",
       "      <td>2014-01-28 12:29:18.313</td>\n",
       "      <td>60</td>\n",
       "      <td>Current</td>\n",
       "      <td>0.1970</td>\n",
       "      <td>C</td>\n",
       "      <td>1</td>\n",
       "      <td>NC</td>\n",
       "      <td>Sales - Commission</td>\n",
       "      <td>Employed</td>\n",
       "      <td>False</td>\n",
       "      <td>$25,000-49,999</td>\n",
       "      <td>3333.333333</td>\n",
       "      <td>0</td>\n",
       "      <td>1</td>\n",
       "      <td>10000</td>\n",
       "    </tr>\n",
       "    <tr>\n",
       "      <th>14446</th>\n",
       "      <td>93A3358904085983492223D</td>\n",
       "      <td>2013-09-04 14:38:08.083</td>\n",
       "      <td>60</td>\n",
       "      <td>Current</td>\n",
       "      <td>0.1519</td>\n",
       "      <td>B</td>\n",
       "      <td>1</td>\n",
       "      <td>AZ</td>\n",
       "      <td>Truck Driver</td>\n",
       "      <td>Employed</td>\n",
       "      <td>True</td>\n",
       "      <td>$25,000-49,999</td>\n",
       "      <td>3750.000000</td>\n",
       "      <td>0</td>\n",
       "      <td>1</td>\n",
       "      <td>5000</td>\n",
       "    </tr>\n",
       "  </tbody>\n",
       "</table>\n",
       "</div>"
      ],
      "text/plain": [
       "                    ListingKey     ListingCreationDate Term LoanStatus  \\\n",
       "29389  C3E9359436279198487B119 2013-11-07 06:12:48.300   36    Current   \n",
       "33744  CA2E35898036039014F3C42 2013-09-10 16:14:30.963   60    Current   \n",
       "29539  B8C6354947026287980585F 2012-06-18 09:16:42.453   36  Completed   \n",
       "37582  4B3336010098728714EAA12 2014-01-28 12:29:18.313   60    Current   \n",
       "14446  93A3358904085983492223D 2013-09-04 14:38:08.083   60    Current   \n",
       "\n",
       "       BorrowerRate ProsperRatingA  ListingCategoryN BorrowerState  \\\n",
       "29389        0.1249              A                 1            CA   \n",
       "33744        0.1730              C                 1            TX   \n",
       "29539        0.2499              D                 1            FL   \n",
       "37582        0.1970              C                 1            NC   \n",
       "14446        0.1519              B                 1            AZ   \n",
       "\n",
       "               Occupation EmploymentStatus  IsBorrowerHomeowner  \\\n",
       "29389      Sales - Retail         Employed                 True   \n",
       "33744   Military Enlisted         Employed                 True   \n",
       "29539           Executive         Employed                 True   \n",
       "37582  Sales - Commission         Employed                False   \n",
       "14446        Truck Driver         Employed                 True   \n",
       "\n",
       "          IncomeRange  StatedMonthlyIncome  Recom  Investors  \\\n",
       "29389       $100,000+         25000.000000      0          1   \n",
       "33744  $50,000-74,999          6240.000000      0          1   \n",
       "29539       $100,000+          9250.000000      0         58   \n",
       "37582  $25,000-49,999          3333.333333      0          1   \n",
       "14446  $25,000-49,999          3750.000000      0          1   \n",
       "\n",
       "       LoanOriginalAmount  \n",
       "29389               20000  \n",
       "33744               15000  \n",
       "29539                5000  \n",
       "37582               10000  \n",
       "14446                5000  "
      ]
     },
     "execution_count": 13,
     "metadata": {},
     "output_type": "execute_result"
    }
   ],
   "source": [
    "# To make use of ProsperRatingA feature, we need to only have entries post July 2009.\n",
    "df_copy = df_copy.query('ListingCreationDate > \"2009-08-01\"')\n",
    "df_copy.sample(5)"
   ]
  },
  {
   "cell_type": "code",
   "execution_count": 14,
   "metadata": {},
   "outputs": [
    {
     "data": {
      "text/html": [
       "<div>\n",
       "<style scoped>\n",
       "    .dataframe tbody tr th:only-of-type {\n",
       "        vertical-align: middle;\n",
       "    }\n",
       "\n",
       "    .dataframe tbody tr th {\n",
       "        vertical-align: top;\n",
       "    }\n",
       "\n",
       "    .dataframe thead th {\n",
       "        text-align: right;\n",
       "    }\n",
       "</style>\n",
       "<table border=\"1\" class=\"dataframe\">\n",
       "  <thead>\n",
       "    <tr style=\"text-align: right;\">\n",
       "      <th></th>\n",
       "      <th>ListingKey</th>\n",
       "      <th>ListingCreationDate</th>\n",
       "      <th>Term</th>\n",
       "      <th>LoanStatus</th>\n",
       "      <th>BorrowerRate</th>\n",
       "      <th>ProsperRatingA</th>\n",
       "      <th>ListingCategoryN</th>\n",
       "      <th>BorrowerState</th>\n",
       "      <th>Occupation</th>\n",
       "      <th>EmploymentStatus</th>\n",
       "      <th>IsBorrowerHomeowner</th>\n",
       "      <th>IncomeRange</th>\n",
       "      <th>StatedMonthlyIncome</th>\n",
       "      <th>Recom</th>\n",
       "      <th>Investors</th>\n",
       "      <th>LoanOriginalAmount</th>\n",
       "    </tr>\n",
       "  </thead>\n",
       "  <tbody>\n",
       "  </tbody>\n",
       "</table>\n",
       "</div>"
      ],
      "text/plain": [
       "Empty DataFrame\n",
       "Columns: [ListingKey, ListingCreationDate, Term, LoanStatus, BorrowerRate, ProsperRatingA, ListingCategoryN, BorrowerState, Occupation, EmploymentStatus, IsBorrowerHomeowner, IncomeRange, StatedMonthlyIncome, Recom, Investors, LoanOriginalAmount]\n",
       "Index: []"
      ]
     },
     "execution_count": 14,
     "metadata": {},
     "output_type": "execute_result"
    }
   ],
   "source": [
    "# Test\n",
    "df_copy.query('ListingCreationDate < \"2009-08-01\"')"
   ]
  },
  {
   "cell_type": "markdown",
   "metadata": {},
   "source": [
    "## Univariate Exploration"
   ]
  },
  {
   "cell_type": "code",
   "execution_count": 15,
   "metadata": {},
   "outputs": [
    {
     "data": {
      "text/plain": [
       "True     44139\n",
       "False    39200\n",
       "Name: IsBorrowerHomeowner, dtype: int64"
      ]
     },
     "execution_count": 15,
     "metadata": {},
     "output_type": "execute_result"
    }
   ],
   "source": [
    "df_copy['IsBorrowerHomeowner'].value_counts()"
   ]
  },
  {
   "cell_type": "code",
   "execution_count": 16,
   "metadata": {},
   "outputs": [
    {
     "data": {
      "text/plain": [
       "$50,000-74,999    25227\n",
       "$25,000-49,999    23518\n",
       "$100,000+         15150\n",
       "$75,000-99,999    14372\n",
       "$1-24,999          4382\n",
       "Not employed        647\n",
       "$0                   43\n",
       "Name: IncomeRange, dtype: int64"
      ]
     },
     "execution_count": 16,
     "metadata": {},
     "output_type": "execute_result"
    }
   ],
   "source": [
    "df_copy['IncomeRange'].value_counts()"
   ]
  },
  {
   "cell_type": "code",
   "execution_count": 17,
   "metadata": {},
   "outputs": [
    {
     "data": {
      "text/plain": [
       "C     17914\n",
       "B     15314\n",
       "A     14296\n",
       "D     14056\n",
       "E      9607\n",
       "HR     6867\n",
       "AA     5285\n",
       "Name: ProsperRatingA, dtype: int64"
      ]
     },
     "execution_count": 17,
     "metadata": {},
     "output_type": "execute_result"
    }
   ],
   "source": [
    "df_copy['ProsperRatingA'].value_counts()"
   ]
  },
  {
   "cell_type": "code",
   "execution_count": 18,
   "metadata": {},
   "outputs": [],
   "source": [
    "ProsperRating_Alpha_classes = ['AA','A', 'B', 'C', 'D', 'E', 'HR']\n",
    "IncomeRange_classes = ['$1-24,999', '$25,000-49,999', '$50,000-74,999', '$75,000-99,999', '$100,000+']\n",
    "pd_ver = pd.__version__.split(\".\")\n",
    "\n",
    "if (int(pd_ver[0]) > 0) or (int(pd_ver[1]) >= 21): # v0.21 or later\n",
    "    vclasses = pd.api.types.CategoricalDtype(ordered = True, categories = ProsperRating_Alpha_classes)\n",
    "    df_copy['ProsperRatingA'] = df_copy['ProsperRatingA'].astype(vclasses)\n",
    "    vclasses_1 = pd.api.types.CategoricalDtype(ordered = True, categories = IncomeRange_classes)\n",
    "    df_copy['IncomeRange'] = df_copy['IncomeRange'].astype(vclasses_1)\n",
    "else: # compatibility for v.20\n",
    "    df_copy['ProsperRatingA'] = df_copy['ProsperRatingA'].astype('category', ordered = True,\n",
    "                                                     categories = ProsperRating_Alpha_classes)\n",
    "    df_copy['IncomeRange'] = df_copy['IncomeRange'].astype('category', ordered = True,\n",
    "                                                     categories = IncomeRange_classes)"
   ]
  },
  {
   "cell_type": "code",
   "execution_count": 19,
   "metadata": {},
   "outputs": [
    {
     "data": {
      "text/plain": [
       "1     51976\n",
       "7      9085\n",
       "2      6742\n",
       "3      5281\n",
       "6      2220\n",
       "13     1975\n",
       "15     1500\n",
       "18      880\n",
       "14      865\n",
       "20      769\n",
       "19      758\n",
       "16      304\n",
       "5       263\n",
       "11      217\n",
       "8       199\n",
       "10       91\n",
       "9        85\n",
       "12       58\n",
       "17       51\n",
       "0        20\n",
       "Name: ListingCategoryN, dtype: int64"
      ]
     },
     "execution_count": 19,
     "metadata": {},
     "output_type": "execute_result"
    }
   ],
   "source": [
    "df_copy['ListingCategoryN'].value_counts()"
   ]
  },
  {
   "cell_type": "code",
   "execution_count": 20,
   "metadata": {},
   "outputs": [
    {
     "data": {
      "text/plain": [
       "Current                   55272\n",
       "Completed                 19488\n",
       "Chargedoff                 5326\n",
       "Defaulted                   997\n",
       "Past Due (1-15 days)        798\n",
       "Past Due (31-60 days)       358\n",
       "Past Due (61-90 days)       313\n",
       "Past Due (91-120 days)      304\n",
       "Past Due (16-30 days)       264\n",
       "FinalPaymentInProgress      203\n",
       "Past Due (>120 days)         16\n",
       "Name: LoanStatus, dtype: int64"
      ]
     },
     "execution_count": 20,
     "metadata": {},
     "output_type": "execute_result"
    }
   ],
   "source": [
    "df_copy.LoanStatus.value_counts()"
   ]
  },
  {
   "cell_type": "markdown",
   "metadata": {},
   "source": [
    "__1. What is the Loan Status Counts for all borrowers?__"
   ]
  },
  {
   "cell_type": "code",
   "execution_count": 21,
   "metadata": {},
   "outputs": [
    {
     "data": {
      "text/plain": [
       "Text(0.5, 1.0, 'Loan Status Counts')"
      ]
     },
     "execution_count": 21,
     "metadata": {},
     "output_type": "execute_result"
    },
    {
     "data": {
      "image/png": "[encoded data removed]",
      "text/plain": [
       "<Figure size 720x360 with 1 Axes>"
      ]
     },
     "metadata": {
      "needs_background": "light"
     },
     "output_type": "display_data"
    }
   ],
   "source": [
    "plt.figure(figsize = [10, 5]) \n",
    "base_color = sb.color_palette()[0]\n",
    "sb.countplot(data=df_copy, y=df_copy['LoanStatus'], order=df_copy.LoanStatus.value_counts().index, color=base_color)\n",
    "plt.title('Loan Status Counts')"
   ]
  },
  {
   "cell_type": "markdown",
   "metadata": {},
   "source": [
    "__Observation__ - The maximum count for majority of the borrows is of the status current. This means that the loan is still on going."
   ]
  },
  {
   "cell_type": "markdown",
   "metadata": {},
   "source": [
    "__2. What is the most common income range?__"
   ]
  },
  {
   "cell_type": "code",
   "execution_count": 22,
   "metadata": {},
   "outputs": [
    {
     "data": {
      "text/plain": [
       "Text(0.5, 1.0, 'Common Income Ranges')"
      ]
     },
     "execution_count": 22,
     "metadata": {},
     "output_type": "execute_result"
    },
    {
     "data": {
      "image/png": "[encoded data removed]",
      "text/plain": [
       "<Figure size 432x288 with 1 Axes>"
      ]
     },
     "metadata": {
      "needs_background": "light"
     },
     "output_type": "display_data"
    }
   ],
   "source": [
    "sb.countplot(data=df_copy, y=df_copy.IncomeRange, order=df_copy.IncomeRange.value_counts().index, color=base_color);\n",
    "plt.title('Common Income Ranges')"
   ]
  },
  {
   "cell_type": "markdown",
   "metadata": {},
   "source": [
    "__Observation__ - It is seen that the most common income range is $\\$25000-$\\$50000."
   ]
  },
  {
   "cell_type": "markdown",
   "metadata": {},
   "source": [
    "__3. Most common prosper ratings?__"
   ]
  },
  {
   "cell_type": "code",
   "execution_count": 23,
   "metadata": {},
   "outputs": [
    {
     "data": {
      "image/png": "[encoded data removed]",
      "text/plain": [
       "<Figure size 504x720 with 1 Axes>"
      ]
     },
     "metadata": {},
     "output_type": "display_data"
    }
   ],
   "source": [
    "plt.figure(figsize = [7, 10])\n",
    "plt.pie(df_copy.ProsperRatingA.value_counts(), labels = df_copy.ProsperRatingA.value_counts().index, startangle = 90,\n",
    "        counterclock = False, autopct   = '%.1f%%');\n",
    "plt.title(\"Prosper Ratings Percentile\")\n",
    "plt.axis('square');"
   ]
  },
  {
   "cell_type": "markdown",
   "metadata": {},
   "source": [
    "__Observation__ - As seen above, the ProsperRating C is the most commonly appearing rating in the dataset."
   ]
  },
  {
   "cell_type": "markdown",
   "metadata": {},
   "source": [
    "__4. Which state has the highest borrowers?__"
   ]
  },
  {
   "cell_type": "code",
   "execution_count": 24,
   "metadata": {},
   "outputs": [
    {
     "data": {
      "text/plain": [
       "Text(0.5, 1.0, 'Top 10 States with the highest number of borrowers')"
      ]
     },
     "execution_count": 24,
     "metadata": {},
     "output_type": "execute_result"
    },
    {
     "data": {
      "image/png": "[encoded data removed]",
      "text/plain": [
       "<Figure size 432x288 with 1 Axes>"
      ]
     },
     "metadata": {
      "needs_background": "light"
     },
     "output_type": "display_data"
    }
   ],
   "source": [
    "sb.countplot(data=df_copy, x=df_copy.BorrowerState, order=df_copy.BorrowerState.value_counts().index[0:10], color=base_color)\n",
    "plt.title('Top 10 States with the highest number of borrowers')"
   ]
  },
  {
   "cell_type": "markdown",
   "metadata": {},
   "source": [
    "__Observation__ - We observe that the highest number of borrowers are from the state of California (CA)."
   ]
  },
  {
   "cell_type": "markdown",
   "metadata": {},
   "source": [
    "5. __What is the Stated Monthly Income for borrowers?__"
   ]
  },
  {
   "cell_type": "code",
   "execution_count": 25,
   "metadata": {},
   "outputs": [
    {
     "data": {
      "text/plain": [
       "Text(0, 0.5, 'Count')"
      ]
     },
     "execution_count": 25,
     "metadata": {},
     "output_type": "execute_result"
    },
    {
     "data": {
      "image/png": "[encoded data removed]",
      "text/plain": [
       "<Figure size 432x288 with 1 Axes>"
      ]
     },
     "metadata": {
      "needs_background": "light"
     },
     "output_type": "display_data"
    }
   ],
   "source": [
    "df_copy.StatedMonthlyIncome.hist()\n",
    "plt.title('Monthly Income')\n",
    "plt.xlabel('Income')\n",
    "plt.ylabel('Count')"
   ]
  },
  {
   "cell_type": "markdown",
   "metadata": {},
   "source": [
    "The above does not show the variation in the monthly income. We can thus use only the most common counts income which is under the 25000 mark."
   ]
  },
  {
   "cell_type": "code",
   "execution_count": 26,
   "metadata": {},
   "outputs": [
    {
     "data": {
      "image/png": "[encoded data removed]",
      "text/plain": [
       "<Figure size 432x288 with 1 Axes>"
      ]
     },
     "metadata": {
      "needs_background": "light"
     },
     "output_type": "display_data"
    }
   ],
   "source": [
    "df_loan_copy = df_copy[df_copy['StatedMonthlyIncome'] <= 25000]\n",
    "bins = np.arange(0, df_loan_copy['StatedMonthlyIncome'].max()+500, 500)\n",
    "plt.hist(data = df_copy, x = 'StatedMonthlyIncome', bins = bins);\n",
    "plt.xlabel('Stated Monthly Income');\n",
    "plt.ylabel('Count');\n",
    "plt.title(\"Stated Monthly Income of all Borrowers\");"
   ]
  },
  {
   "cell_type": "markdown",
   "metadata": {},
   "source": [
    "__Observation__ - The most common stated monthly income ranges from $\\$3000 - $\\$7500.  "
   ]
  },
  {
   "cell_type": "markdown",
   "metadata": {},
   "source": [
    "## Bivariate Exploration\n"
   ]
  },
  {
   "cell_type": "markdown",
   "metadata": {},
   "source": [
    "__1. Does the Income Range affect Loan Amount?__"
   ]
  },
  {
   "cell_type": "code",
   "execution_count": 27,
   "metadata": {},
   "outputs": [
    {
     "data": {
      "text/plain": [
       "Index(['ListingKey', 'ListingCreationDate', 'Term', 'LoanStatus',\n",
       "       'BorrowerRate', 'ProsperRatingA', 'ListingCategoryN', 'BorrowerState',\n",
       "       'Occupation', 'EmploymentStatus', 'IsBorrowerHomeowner', 'IncomeRange',\n",
       "       'StatedMonthlyIncome', 'Recom', 'Investors', 'LoanOriginalAmount'],\n",
       "      dtype='object')"
      ]
     },
     "execution_count": 27,
     "metadata": {},
     "output_type": "execute_result"
    }
   ],
   "source": [
    "df_copy.columns"
   ]
  },
  {
   "cell_type": "code",
   "execution_count": 28,
   "metadata": {},
   "outputs": [
    {
     "data": {
      "text/plain": [
       "Text(0.5, 1.0, 'Income Range Versus Loan Amount')"
      ]
     },
     "execution_count": 28,
     "metadata": {},
     "output_type": "execute_result"
    },
    {
     "data": {
      "image/png": "[encoded data removed]",
      "text/plain": [
       "<Figure size 720x720 with 1 Axes>"
      ]
     },
     "metadata": {
      "needs_background": "light"
     },
     "output_type": "display_data"
    }
   ],
   "source": [
    "plt.figure(figsize=[10,10])\n",
    "ax1 = sb.barplot(data = df_copy, x = 'IncomeRange', y = 'LoanOriginalAmount', color = base_color)\n",
    "plt.xticks(rotation = 15);\n",
    "plt.title('Income Range Versus Loan Amount')"
   ]
  },
  {
   "cell_type": "markdown",
   "metadata": {},
   "source": [
    "__Observation__ - As seen above, the loan amount range is more as the Income range increases for each category."
   ]
  },
  {
   "cell_type": "markdown",
   "metadata": {},
   "source": [
    "__2. Does employment status affect loan amount?__"
   ]
  },
  {
   "cell_type": "code",
   "execution_count": 29,
   "metadata": {},
   "outputs": [
    {
     "data": {
      "text/plain": [
       "Text(0.5, 1.0, 'Employment Status Versus Loan Amount')"
      ]
     },
     "execution_count": 29,
     "metadata": {},
     "output_type": "execute_result"
    },
    {
     "data": {
      "image/png": "[encoded data removed]",
      "text/plain": [
       "<Figure size 720x720 with 1 Axes>"
      ]
     },
     "metadata": {
      "needs_background": "light"
     },
     "output_type": "display_data"
    }
   ],
   "source": [
    "plt.figure(figsize=[10,10])\n",
    "sb.boxplot(y=df_copy.LoanOriginalAmount, x=df_copy.EmploymentStatus)\n",
    "plt.title('Employment Status Versus Loan Amount')"
   ]
  },
  {
   "cell_type": "markdown",
   "metadata": {},
   "source": [
    "__Observation__ - As seen above, the loan amount handed to borrowers who are employed is much more than the others."
   ]
  },
  {
   "cell_type": "markdown",
   "metadata": {},
   "source": [
    "__3. Count of applicants with respect to income & home owner status.__"
   ]
  },
  {
   "cell_type": "code",
   "execution_count": 30,
   "metadata": {},
   "outputs": [
    {
     "data": {
      "text/plain": [
       "Text(0.5, 1.0, 'Counts of applicants for income range with respect to home owning status')"
      ]
     },
     "execution_count": 30,
     "metadata": {},
     "output_type": "execute_result"
    },
    {
     "data": {
      "image/png": "[encoded data removed]",
      "text/plain": [
       "<Figure size 1440x576 with 1 Axes>"
      ]
     },
     "metadata": {
      "needs_background": "light"
     },
     "output_type": "display_data"
    }
   ],
   "source": [
    "plt.figure(figsize=[20,8])\n",
    "sb.countplot(data = df_copy, x = df_copy['IncomeRange'], hue = 'IsBorrowerHomeowner', palette = 'Reds')\n",
    "plt.legend(ncol = 2) # re-arrange legend to reduce overlapping\n",
    "plt.xticks(rotation = 15)\n",
    "plt.title('Counts of applicants for income range with respect to home owning status')"
   ]
  },
  {
   "cell_type": "markdown",
   "metadata": {},
   "source": [
    "__Observation__ - We can see that the application counts are the maximum for income range 50000 to 75000 dollars for applicants owning a home, whereas it is maximum for income range 25000 to 50000 dollars for applicants not owning a home."
   ]
  },
  {
   "cell_type": "markdown",
   "metadata": {},
   "source": [
    "We can see from the visualizations above that the amount of loan has a relation with the employment status. We also saw that higher the income range, the higher is the loan amount. These features play an important role in determining the loan granting parameters."
   ]
  },
  {
   "cell_type": "markdown",
   "metadata": {},
   "source": [
    "## Multivariate Exploration"
   ]
  },
  {
   "cell_type": "markdown",
   "metadata": {},
   "source": [
    "__1. Comparing Borrower Rate with Income Range for whether or not the borrower owns a house.__"
   ]
  },
  {
   "cell_type": "code",
   "execution_count": 31,
   "metadata": {},
   "outputs": [
    {
     "data": {
      "text/plain": [
       "Text(0.5, 1.0, 'Borrower Rates Versus Income Range for Home Owners')"
      ]
     },
     "execution_count": 31,
     "metadata": {},
     "output_type": "execute_result"
    },
    {
     "data": {
      "image/png": "[encoded data removed]",
      "text/plain": [
       "<Figure size 576x360 with 1 Axes>"
      ]
     },
     "metadata": {
      "needs_background": "light"
     },
     "output_type": "display_data"
    }
   ],
   "source": [
    "plt.figure(figsize=[8,5])\n",
    "df_copy_sub = df_copy.loc[df_copy['IsBorrowerHomeowner'].isin(['0', '1'])]\n",
    "sb.boxplot(data = df_copy_sub, x = 'IncomeRange', y = 'BorrowerRate', hue = 'IsBorrowerHomeowner')\n",
    "plt.legend(loc = 6, bbox_to_anchor = (1.0, 0.5)) # legend to right of figure\n",
    "plt.xticks(rotation = 15)\n",
    "plt.title('Borrower Rates Versus Income Range for Home Owners')"
   ]
  },
  {
   "cell_type": "markdown",
   "metadata": {},
   "source": [
    "__Observation__ - It can be seen that for lower income range, the borrorwer rate for the applicant is much higher for both, has a home or not. However, as the income range increases, the borrower rate tends to decrease and is slightly lower for applicants owning a home. "
   ]
  },
  {
   "cell_type": "markdown",
   "metadata": {},
   "source": [
    "__2. Compare the Loan amount with employment status for applicants with or without owned home__."
   ]
  },
  {
   "cell_type": "code",
   "execution_count": 32,
   "metadata": {},
   "outputs": [
    {
     "data": {
      "text/plain": [
       "Text(0.5, 1.0, 'Loan Amount Versus Employment Status for Home Owners')"
      ]
     },
     "execution_count": 32,
     "metadata": {},
     "output_type": "execute_result"
    },
    {
     "data": {
      "image/png": "[encoded data removed]",
      "text/plain": [
       "<Figure size 576x360 with 1 Axes>"
      ]
     },
     "metadata": {
      "needs_background": "light"
     },
     "output_type": "display_data"
    }
   ],
   "source": [
    "plt.figure(figsize=[8,5])\n",
    "df_copy_sub = df_copy.loc[df_copy['IsBorrowerHomeowner'].isin(['0', '1'])]\n",
    "sb.barplot(data = df_copy_sub, x = 'EmploymentStatus', y = 'LoanOriginalAmount', hue = 'IsBorrowerHomeowner')\n",
    "plt.legend(loc = 6, bbox_to_anchor = (1.0, 0.5)) # legend to right of figure\n",
    "plt.xticks(rotation = 15)\n",
    "plt.title('Loan Amount Versus Employment Status for Home Owners')"
   ]
  },
  {
   "cell_type": "markdown",
   "metadata": {},
   "source": [
    "__Observation__ - There is evidence that suggests that employed status & self-employed status have the highest loan amount respectively with a higher amount for applicants owning a house."
   ]
  },
  {
   "cell_type": "markdown",
   "metadata": {},
   "source": [
    "__3. Loan amount across Income range & term of loan__."
   ]
  },
  {
   "cell_type": "code",
   "execution_count": 33,
   "metadata": {},
   "outputs": [
    {
     "data": {
      "text/plain": [
       "Text(0.5, 1.0, 'Loan Amount versus Income Range for Term')"
      ]
     },
     "execution_count": 33,
     "metadata": {},
     "output_type": "execute_result"
    },
    {
     "data": {
      "image/png": "[encoded data removed]",
      "text/plain": [
       "<Figure size 720x360 with 1 Axes>"
      ]
     },
     "metadata": {
      "needs_background": "light"
     },
     "output_type": "display_data"
    }
   ],
   "source": [
    "# plotting\n",
    "plt.figure(figsize=[10,5])\n",
    "sb.barplot(data = df_copy, x = 'IncomeRange', y = 'LoanOriginalAmount', hue = 'Term')\n",
    "plt.legend(loc = 6, bbox_to_anchor = (1.0, 0.5)) # legend to right of figure\n",
    "plt.xticks(rotation = 15)\n",
    "plt.title('Loan Amount versus Income Range for Term')"
   ]
  },
  {
   "cell_type": "markdown",
   "metadata": {},
   "source": [
    "__Observation__ - The loan amount if higher for applicants with a higher income range and greater loan term. For lower loan term, the loan amount is the lowest for all income ranges."
   ]
  },
  {
   "cell_type": "markdown",
   "metadata": {},
   "source": [
    "## Conclusion\n",
    "We successfully plotted various features against each other to understand what features would be safe to consider a loan. These features include IncomeRange, EmploymentStatus, if applicant is a Home Owner & the prosper rating.\n",
    "It is best to consider a loan if the applicant has a owned home."
   ]
  }
 ],
 "metadata": {
  "kernelspec": {
   "display_name": "Python 3",
   "language": "python",
   "name": "python3"
  },
  "language_info": {
   "codemirror_mode": {
    "name": "ipython",
    "version": 3
   },
   "file_extension": ".py",
   "mimetype": "text/x-python",
   "name": "python",
   "nbconvert_exporter": "python",
   "pygments_lexer": "ipython3",
   "version": "3.7.3"
  }
 },
 "nbformat": 4,
 "nbformat_minor": 2
}
