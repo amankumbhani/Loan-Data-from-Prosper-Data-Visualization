{
 "cells": [
  {
   "cell_type": "markdown",
   "metadata": {
    "slideshow": {
     "slide_type": "slide"
    }
   },
   "source": [
    "# Loan Data Analysis from Prosper\n",
    "## by Aman Kumbhani"
   ]
  },
  {
   "cell_type": "markdown",
   "metadata": {
    "slideshow": {
     "slide_type": "slide"
    }
   },
   "source": [
    "## Investigation Overview\n",
    "\n",
    "The goal of this investigation is to visualize what features affect the loan granting system & what features must be considered before granting a loan to any applicant.\n",
    "\n",
    "## Dataset Overview\n",
    "The data set contains 113,937 loans with 81 variables on each loan, including loan amount, borrower rate (or interest rate), current loan status, borrower income, and many others. Out of these, we will be using about 15 most important features."
   ]
  },
  {
   "cell_type": "code",
   "execution_count": 8,
   "metadata": {
    "slideshow": {
     "slide_type": "skip"
    }
   },
   "outputs": [],
   "source": [
    "# import all packages and set plots to be embedded inline\n",
    "import numpy as np\n",
    "import pandas as pd\n",
    "import matplotlib.pyplot as plt\n",
    "import seaborn as sb\n",
    "\n",
    "%matplotlib inline\n",
    "\n",
    "# suppress warnings from final output\n",
    "import warnings\n",
    "warnings.simplefilter(\"ignore\")"
   ]
  },
  {
   "cell_type": "code",
   "execution_count": 9,
   "metadata": {
    "slideshow": {
     "slide_type": "skip"
    }
   },
   "outputs": [],
   "source": [
    "# load in the dataset into a pandas dataframe\n",
    "df = pd.read_csv('prosperLoanData.csv')\n",
    "df_copy = df.copy()"
   ]
  },
  {
   "cell_type": "code",
   "execution_count": 10,
   "metadata": {
    "slideshow": {
     "slide_type": "skip"
    }
   },
   "outputs": [
    {
     "name": "stdout",
     "output_type": "stream",
     "text": [
      "<class 'pandas.core.frame.DataFrame'>\n",
      "Int64Index: 83520 entries, 1 to 113936\n",
      "Data columns (total 16 columns):\n",
      " #   Column               Non-Null Count  Dtype         \n",
      "---  ------               --------------  -----         \n",
      " 0   ListingKey           83520 non-null  object        \n",
      " 1   ListingCreationDate  83520 non-null  datetime64[ns]\n",
      " 2   Term                 83520 non-null  category      \n",
      " 3   LoanStatus           83520 non-null  object        \n",
      " 4   BorrowerRate         83520 non-null  float64       \n",
      " 5   ProsperRatingA       83520 non-null  object        \n",
      " 6   ListingCategoryN     83520 non-null  int64         \n",
      " 7   BorrowerState        83520 non-null  object        \n",
      " 8   Occupation           83520 non-null  object        \n",
      " 9   EmploymentStatus     83520 non-null  object        \n",
      " 10  IsBorrowerHomeowner  83520 non-null  bool          \n",
      " 11  IncomeRange          83520 non-null  object        \n",
      " 12  StatedMonthlyIncome  83520 non-null  float64       \n",
      " 13  Recom                83520 non-null  int64         \n",
      " 14  Investors            83520 non-null  int64         \n",
      " 15  LoanOriginalAmount   83520 non-null  int64         \n",
      "dtypes: bool(1), category(1), datetime64[ns](1), float64(2), int64(4), object(7)\n",
      "memory usage: 9.7+ MB\n"
     ]
    },
    {
     "data": {
      "text/html": [
       "<div>\n",
       "<style scoped>\n",
       "    .dataframe tbody tr th:only-of-type {\n",
       "        vertical-align: middle;\n",
       "    }\n",
       "\n",
       "    .dataframe tbody tr th {\n",
       "        vertical-align: top;\n",
       "    }\n",
       "\n",
       "    .dataframe thead th {\n",
       "        text-align: right;\n",
       "    }\n",
       "</style>\n",
       "<table border=\"1\" class=\"dataframe\">\n",
       "  <thead>\n",
       "    <tr style=\"text-align: right;\">\n",
       "      <th></th>\n",
       "      <th>ListingKey</th>\n",
       "      <th>ListingCreationDate</th>\n",
       "      <th>Term</th>\n",
       "      <th>LoanStatus</th>\n",
       "      <th>BorrowerRate</th>\n",
       "      <th>ProsperRatingA</th>\n",
       "      <th>ListingCategoryN</th>\n",
       "      <th>BorrowerState</th>\n",
       "      <th>Occupation</th>\n",
       "      <th>EmploymentStatus</th>\n",
       "      <th>IsBorrowerHomeowner</th>\n",
       "      <th>IncomeRange</th>\n",
       "      <th>StatedMonthlyIncome</th>\n",
       "      <th>Recom</th>\n",
       "      <th>Investors</th>\n",
       "      <th>LoanOriginalAmount</th>\n",
       "    </tr>\n",
       "  </thead>\n",
       "  <tbody>\n",
       "    <tr>\n",
       "      <th>47467</th>\n",
       "      <td>3295358358507199255955B</td>\n",
       "      <td>2013-07-10 14:54:09.630</td>\n",
       "      <td>60</td>\n",
       "      <td>Current</td>\n",
       "      <td>0.2179</td>\n",
       "      <td>C</td>\n",
       "      <td>3</td>\n",
       "      <td>MD</td>\n",
       "      <td>Other</td>\n",
       "      <td>Employed</td>\n",
       "      <td>True</td>\n",
       "      <td>$25,000-49,999</td>\n",
       "      <td>3583.333333</td>\n",
       "      <td>0</td>\n",
       "      <td>1</td>\n",
       "      <td>10000</td>\n",
       "    </tr>\n",
       "    <tr>\n",
       "      <th>5576</th>\n",
       "      <td>385B3518086842430D6018C</td>\n",
       "      <td>2011-06-13 10:52:51.820</td>\n",
       "      <td>36</td>\n",
       "      <td>Chargedoff</td>\n",
       "      <td>0.3199</td>\n",
       "      <td>E</td>\n",
       "      <td>3</td>\n",
       "      <td>CA</td>\n",
       "      <td>Other</td>\n",
       "      <td>Other</td>\n",
       "      <td>False</td>\n",
       "      <td>$50,000-74,999</td>\n",
       "      <td>4166.666667</td>\n",
       "      <td>0</td>\n",
       "      <td>89</td>\n",
       "      <td>4000</td>\n",
       "    </tr>\n",
       "    <tr>\n",
       "      <th>11897</th>\n",
       "      <td>5EED360143938424803B482</td>\n",
       "      <td>2014-01-20 17:27:02.363</td>\n",
       "      <td>60</td>\n",
       "      <td>Current</td>\n",
       "      <td>0.2150</td>\n",
       "      <td>D</td>\n",
       "      <td>1</td>\n",
       "      <td>OR</td>\n",
       "      <td>Other</td>\n",
       "      <td>Employed</td>\n",
       "      <td>False</td>\n",
       "      <td>$25,000-49,999</td>\n",
       "      <td>2868.666667</td>\n",
       "      <td>0</td>\n",
       "      <td>1</td>\n",
       "      <td>10000</td>\n",
       "    </tr>\n",
       "    <tr>\n",
       "      <th>98181</th>\n",
       "      <td>EF8A3579468530190A24C2A</td>\n",
       "      <td>2013-05-22 23:08:35.730</td>\n",
       "      <td>60</td>\n",
       "      <td>Current</td>\n",
       "      <td>0.1984</td>\n",
       "      <td>C</td>\n",
       "      <td>7</td>\n",
       "      <td>MN</td>\n",
       "      <td>Sales - Retail</td>\n",
       "      <td>Employed</td>\n",
       "      <td>False</td>\n",
       "      <td>$1-24,999</td>\n",
       "      <td>1916.666667</td>\n",
       "      <td>0</td>\n",
       "      <td>1</td>\n",
       "      <td>2000</td>\n",
       "    </tr>\n",
       "    <tr>\n",
       "      <th>44221</th>\n",
       "      <td>169B36040263472082E8C55</td>\n",
       "      <td>2014-03-03 19:32:30.283</td>\n",
       "      <td>36</td>\n",
       "      <td>Current</td>\n",
       "      <td>0.0920</td>\n",
       "      <td>A</td>\n",
       "      <td>1</td>\n",
       "      <td>CA</td>\n",
       "      <td>Food Service</td>\n",
       "      <td>Employed</td>\n",
       "      <td>False</td>\n",
       "      <td>$25,000-49,999</td>\n",
       "      <td>2416.666667</td>\n",
       "      <td>0</td>\n",
       "      <td>1</td>\n",
       "      <td>4000</td>\n",
       "    </tr>\n",
       "  </tbody>\n",
       "</table>\n",
       "</div>"
      ],
      "text/plain": [
       "                    ListingKey     ListingCreationDate Term  LoanStatus  \\\n",
       "47467  3295358358507199255955B 2013-07-10 14:54:09.630   60     Current   \n",
       "5576   385B3518086842430D6018C 2011-06-13 10:52:51.820   36  Chargedoff   \n",
       "11897  5EED360143938424803B482 2014-01-20 17:27:02.363   60     Current   \n",
       "98181  EF8A3579468530190A24C2A 2013-05-22 23:08:35.730   60     Current   \n",
       "44221  169B36040263472082E8C55 2014-03-03 19:32:30.283   36     Current   \n",
       "\n",
       "       BorrowerRate ProsperRatingA  ListingCategoryN BorrowerState  \\\n",
       "47467        0.2179              C                 3            MD   \n",
       "5576         0.3199              E                 3            CA   \n",
       "11897        0.2150              D                 1            OR   \n",
       "98181        0.1984              C                 7            MN   \n",
       "44221        0.0920              A                 1            CA   \n",
       "\n",
       "           Occupation EmploymentStatus  IsBorrowerHomeowner     IncomeRange  \\\n",
       "47467           Other         Employed                 True  $25,000-49,999   \n",
       "5576            Other            Other                False  $50,000-74,999   \n",
       "11897           Other         Employed                False  $25,000-49,999   \n",
       "98181  Sales - Retail         Employed                False       $1-24,999   \n",
       "44221    Food Service         Employed                False  $25,000-49,999   \n",
       "\n",
       "       StatedMonthlyIncome  Recom  Investors  LoanOriginalAmount  \n",
       "47467          3583.333333      0          1               10000  \n",
       "5576           4166.666667      0         89                4000  \n",
       "11897          2868.666667      0          1               10000  \n",
       "98181          1916.666667      0          1                2000  \n",
       "44221          2416.666667      0          1                4000  "
      ]
     },
     "execution_count": 10,
     "metadata": {},
     "output_type": "execute_result"
    }
   ],
   "source": [
    "# Creating a list of column names which will be used for analysis\n",
    "col_used = ['ListingKey', 'ListingCreationDate', 'Term', 'LoanStatus', 'BorrowerRate', 'ProsperRating (Alpha)', 'ListingCategory (numeric)',\n",
    "           'BorrowerState', 'Occupation', 'EmploymentStatus', 'IsBorrowerHomeowner', 'IncomeRange', 'StatedMonthlyIncome',\n",
    "           'Recommendations', 'Investors', 'LoanOriginalAmount']\n",
    "df_copy = df_copy[col_used]\n",
    "df_copy.sample(2)\n",
    "# Rename column names to make it simpler for analysis\n",
    "df_copy.rename(columns = {'ProsperRating (Alpha)' : 'ProsperRatingA',\n",
    "                          'ListingCategory (numeric)' : 'ListingCategoryN',\n",
    "                          'Recommendations' : 'Recom'}, inplace=True)\n",
    "df_copy.sample(2)\n",
    "# Fixing null values\n",
    "df_copy.dropna(inplace=True)\n",
    "# Fixing ListingCreationDate to datetime instead of object \n",
    "df_copy['ListingCreationDate'] = pd.to_datetime(df_copy['ListingCreationDate'])\n",
    "# Fixing Term into categorical datatype\n",
    "df_copy['Term'] = df_copy['Term'].astype('category')\n",
    "# Testing \n",
    "df_copy.info()\n",
    "# To make use of ProsperRatingA feature, we need to only have entries post July 2009.\n",
    "df_copy = df_copy.query('ListingCreationDate > \"2009-08-01\"')\n",
    "df_copy.sample(5)"
   ]
  },
  {
   "cell_type": "markdown",
   "metadata": {
    "slideshow": {
     "slide_type": "slide"
    }
   },
   "source": [
    "## Most common prosper ratings across the dataset\n",
    "There are a total of 7 prosper ratings across the dataset, August 2009 onwards. C being the most common rating with 21.5%."
   ]
  },
  {
   "cell_type": "code",
   "execution_count": 11,
   "metadata": {
    "slideshow": {
     "slide_type": "subslide"
    }
   },
   "outputs": [
    {
     "data": {
      "image/png": "[encoded data removed]",
      "text/plain": [
       "<Figure size 504x720 with 1 Axes>"
      ]
     },
     "metadata": {},
     "output_type": "display_data"
    }
   ],
   "source": [
    "plt.figure(figsize = [7, 10])\n",
    "plt.pie(df_copy.ProsperRatingA.value_counts(), labels = df_copy.ProsperRatingA.value_counts().index, startangle = 90,\n",
    "        counterclock = False, autopct   = '%.1f%%');\n",
    "plt.title(\"Prosper Ratings Percentile\")\n",
    "plt.axis('square');"
   ]
  },
  {
   "cell_type": "code",
   "execution_count": 12,
   "metadata": {
    "slideshow": {
     "slide_type": "skip"
    }
   },
   "outputs": [],
   "source": [
    "ProsperRating_Alpha_classes = ['AA','A', 'B', 'C', 'D', 'E', 'HR']\n",
    "IncomeRange_classes = ['$1-24,999', '$25,000-49,999', '$50,000-74,999', '$75,000-99,999', '$100,000+']\n",
    "pd_ver = pd.__version__.split(\".\")\n",
    "\n",
    "if (int(pd_ver[0]) > 0) or (int(pd_ver[1]) >= 21): # v0.21 or later\n",
    "    vclasses = pd.api.types.CategoricalDtype(ordered = True, categories = ProsperRating_Alpha_classes)\n",
    "    df_copy['ProsperRatingA'] = df_copy['ProsperRatingA'].astype(vclasses)\n",
    "    vclasses_1 = pd.api.types.CategoricalDtype(ordered = True, categories = IncomeRange_classes)\n",
    "    df_copy['IncomeRange'] = df_copy['IncomeRange'].astype(vclasses_1)\n",
    "else: # compatibility for v.20\n",
    "    df_copy['ProsperRatingA'] = df_copy['ProsperRatingA'].astype('category', ordered = True,\n",
    "                                                     categories = ProsperRating_Alpha_classes)\n",
    "    df_copy['IncomeRange'] = df_copy['IncomeRange'].astype('category', ordered = True,\n",
    "                                                     categories = IncomeRange_classes)"
   ]
  },
  {
   "cell_type": "markdown",
   "metadata": {
    "collapsed": true,
    "slideshow": {
     "slide_type": "slide"
    }
   },
   "source": [
    "## Income Range Versus Loan Amount\n",
    "Here, we can see that the loan amount is more as the income range increases per category."
   ]
  },
  {
   "cell_type": "code",
   "execution_count": 13,
   "metadata": {
    "slideshow": {
     "slide_type": "subslide"
    }
   },
   "outputs": [
    {
     "data": {
      "text/plain": [
       "Text(0.5, 1.0, 'Income Range vs Loan Amount')"
      ]
     },
     "execution_count": 13,
     "metadata": {},
     "output_type": "execute_result"
    },
    {
     "data": {
      "image/png": "[encoded data removed]",
      "text/plain": [
       "<Figure size 720x720 with 1 Axes>"
      ]
     },
     "metadata": {
      "needs_background": "light"
     },
     "output_type": "display_data"
    }
   ],
   "source": [
    "plt.figure(figsize=[10,10])\n",
    "ax1 = sb.barplot(data = df_copy, x = 'IncomeRange', y = 'LoanOriginalAmount', color = 'red')\n",
    "plt.xticks(rotation = 15);\n",
    "plt.title('Income Range vs Loan Amount')"
   ]
  },
  {
   "cell_type": "markdown",
   "metadata": {
    "slideshow": {
     "slide_type": "slide"
    }
   },
   "source": [
    "## Home owner effect on Income Range & Borrower Rate\n",
    "It can be seen that for lower income range, the borrorwer rate for the applicant is much higher for both, has a home or not. However, as the income range increases, the borrower rate tends to decrease and is slightly lower for applicants owning a home. "
   ]
  },
  {
   "cell_type": "code",
   "execution_count": 14,
   "metadata": {
    "slideshow": {
     "slide_type": "subslide"
    }
   },
   "outputs": [
    {
     "data": {
      "text/plain": [
       "Text(0.5, 1.0, 'Borrower Rates Versus Income Range for Home Owners')"
      ]
     },
     "execution_count": 14,
     "metadata": {},
     "output_type": "execute_result"
    },
    {
     "data": {
      "image/png": "[encoded data removed]",
      "text/plain": [
       "<Figure size 576x360 with 1 Axes>"
      ]
     },
     "metadata": {
      "needs_background": "light"
     },
     "output_type": "display_data"
    }
   ],
   "source": [
    "plt.figure(figsize=[8,5])\n",
    "df_copy_sub = df_copy.loc[df_copy['IsBorrowerHomeowner'].isin(['0', '1'])]\n",
    "sb.boxplot(data = df_copy_sub, x = 'IncomeRange', y = 'BorrowerRate', hue = 'IsBorrowerHomeowner')\n",
    "plt.legend(loc = 6, bbox_to_anchor = (1.0, 0.5)) # legend to right of figure\n",
    "plt.xticks(rotation = 15)\n",
    "plt.title('Borrower Rates Versus Income Range for Home Owners')"
   ]
  },
  {
   "cell_type": "code",
   "execution_count": null,
   "metadata": {},
   "outputs": [],
   "source": [
    "!jupyter nbconvert slide_deck_template.ipynb --to slides --post serve --template output_toggle"
   ]
  }
 ],
 "metadata": {
  "celltoolbar": "Slideshow",
  "kernelspec": {
   "display_name": "Python 3",
   "language": "python",
   "name": "python3"
  },
  "language_info": {
   "codemirror_mode": {
    "name": "ipython",
    "version": 3
   },
   "file_extension": ".py",
   "mimetype": "text/x-python",
   "name": "python",
   "nbconvert_exporter": "python",
   "pygments_lexer": "ipython3",
   "version": "3.7.3"
  }
 },
 "nbformat": 4,
 "nbformat_minor": 2
}
